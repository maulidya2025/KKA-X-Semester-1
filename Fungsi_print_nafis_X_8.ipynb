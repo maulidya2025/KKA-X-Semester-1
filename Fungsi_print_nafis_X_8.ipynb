{
  "nbformat": 4,
  "nbformat_minor": 0,
  "metadata": {
    "colab": {
      "provenance": [],
      "toc_visible": true,
      "authorship_tag": "ABX9TyO/kqPAiI9u7YRZaI1Wwzfs",
      "include_colab_link": true
    },
    "kernelspec": {
      "name": "python3",
      "display_name": "Python 3"
    },
    "language_info": {
      "name": "python"
    }
  },
  "cells": [
    {
      "cell_type": "markdown",
      "metadata": {
        "id": "view-in-github",
        "colab_type": "text"
      },
      "source": [
        "<a href=\"https://colab.research.google.com/github/maulidya2025/KKA-X-Semester-1/blob/main/Fungsi_print_nafis_X_8.ipynb\" target=\"_parent\"><img src=\"https://colab.research.google.com/assets/colab-badge.svg\" alt=\"Open In Colab\"/></a>"
      ]
    },
    {
      "cell_type": "markdown",
      "source": [
        "Nama : Nafisatul Maulidya\n",
        "\n",
        "Kelas : X.8\n",
        "\n",
        "No : 27"
      ],
      "metadata": {
        "id": "24HzpcjNdnX9"
      }
    },
    {
      "cell_type": "markdown",
      "source": [
        "#Menampilkan teks bebas"
      ],
      "metadata": {
        "id": "gq9bZRvhfkqw"
      }
    },
    {
      "cell_type": "code",
      "source": [
        "print(\"Helo woerld!\")"
      ],
      "metadata": {
        "colab": {
          "base_uri": "https://localhost:8080/"
        },
        "id": "b_V1RWGYdmUG",
        "outputId": "2eacc927-c078-484b-f259-bb0b48361850"
      },
      "execution_count": null,
      "outputs": [
        {
          "output_type": "stream",
          "name": "stdout",
          "text": [
            "Helo woerld!\n"
          ]
        }
      ]
    },
    {
      "cell_type": "code",
      "source": [
        "print(\"Nafisatul Maulidya\")"
      ],
      "metadata": {
        "colab": {
          "base_uri": "https://localhost:8080/"
        },
        "id": "d67VU8hKhWS5",
        "outputId": "092985c8-9256-48b1-b508-4828554bb496"
      },
      "execution_count": null,
      "outputs": [
        {
          "output_type": "stream",
          "name": "stdout",
          "text": [
            "Nafisatul Maulidya\n"
          ]
        }
      ]
    },
    {
      "cell_type": "markdown",
      "source": [
        "#Menampilkan Nilai Variabel"
      ],
      "metadata": {
        "id": "sSVFsti0iEyg"
      }
    },
    {
      "cell_type": "code",
      "source": [
        "usia = 14\n",
        "\n",
        "print(usia)"
      ],
      "metadata": {
        "colab": {
          "base_uri": "https://localhost:8080/"
        },
        "id": "5-JjATcXiQj5",
        "outputId": "ffb0ce96-9071-4642-9809-1e1ad4dd620a"
      },
      "execution_count": null,
      "outputs": [
        {
          "output_type": "stream",
          "name": "stdout",
          "text": [
            "14\n"
          ]
        }
      ]
    },
    {
      "cell_type": "code",
      "source": [
        "Nama = \"Nafisatul Maulidya\"\n",
        "print (Nama)"
      ],
      "metadata": {
        "colab": {
          "base_uri": "https://localhost:8080/"
        },
        "id": "QcEEMWEJjL1_",
        "outputId": "327920fc-5145-4903-f5ba-daaceb05fe88"
      },
      "execution_count": null,
      "outputs": [
        {
          "output_type": "stream",
          "name": "stdout",
          "text": [
            "Nafisatul Maulidya\n"
          ]
        }
      ]
    },
    {
      "cell_type": "code",
      "source": [
        "Bb=40\n",
        "\n",
        "print (Bb)"
      ],
      "metadata": {
        "colab": {
          "base_uri": "https://localhost:8080/"
        },
        "id": "RwJNJy36kBQu",
        "outputId": "666d45d2-af65-4a6b-fd10-fc281a17b70b"
      },
      "execution_count": null,
      "outputs": [
        {
          "output_type": "stream",
          "name": "stdout",
          "text": [
            "40\n"
          ]
        }
      ]
    },
    {
      "cell_type": "markdown",
      "source": [
        "#Menampilkan teks bebas dan nilai variabel"
      ],
      "metadata": {
        "id": "1o_o6HA5lIRP"
      }
    },
    {
      "cell_type": "code",
      "source": [
        "print(f\"perkenalkan nama saya {Nama}.\")"
      ],
      "metadata": {
        "colab": {
          "base_uri": "https://localhost:8080/"
        },
        "id": "1bO0EYn2lO6i",
        "outputId": "5160c8a0-d9f2-47b4-9a94-560e017df732"
      },
      "execution_count": null,
      "outputs": [
        {
          "output_type": "stream",
          "name": "stdout",
          "text": [
            "perkenalkan nama saya Nafisatul Maulidya.\n"
          ]
        }
      ]
    },
    {
      "cell_type": "code",
      "source": [
        "print (f\"Bb saya {Bb} kg.\")"
      ],
      "metadata": {
        "colab": {
          "base_uri": "https://localhost:8080/"
        },
        "id": "6bqJqLZ_l6de",
        "outputId": "f2733cf0-e7d6-4232-b113-9eb5317ad371"
      },
      "execution_count": null,
      "outputs": [
        {
          "output_type": "stream",
          "name": "stdout",
          "text": [
            "Bb saya 40 kg.\n"
          ]
        }
      ]
    },
    {
      "cell_type": "code",
      "source": [
        "print(\"perkenalkan nama saya \" + Nama)"
      ],
      "metadata": {
        "colab": {
          "base_uri": "https://localhost:8080/"
        },
        "id": "F_R37nd9m7Pj",
        "outputId": "bfc2587a-f0d3-4805-a13f-6922920bce4a"
      },
      "execution_count": null,
      "outputs": [
        {
          "output_type": "stream",
          "name": "stdout",
          "text": [
            "perkenalkan nama saya Nafisatul Maulidya\n"
          ]
        }
      ]
    },
    {
      "cell_type": "code",
      "source": [
        "print(\"BB saya \" + str(Bb) + \" kg.\")"
      ],
      "metadata": {
        "colab": {
          "base_uri": "https://localhost:8080/"
        },
        "id": "itKgefEonW3f",
        "outputId": "8dde1e8e-2bb5-4bc7-a0d3-53d0b10f4343"
      },
      "execution_count": null,
      "outputs": [
        {
          "output_type": "stream",
          "name": "stdout",
          "text": [
            "BB saya 40 kg.\n"
          ]
        }
      ]
    },
    {
      "cell_type": "code",
      "source": [
        "print(\"BB saya \" , Bb ,\"kg.\")"
      ],
      "metadata": {
        "colab": {
          "base_uri": "https://localhost:8080/"
        },
        "id": "nKUJu1QuobZy",
        "outputId": "53b26c8d-d2a5-4982-df4d-9fb4575692a1"
      },
      "execution_count": null,
      "outputs": [
        {
          "output_type": "stream",
          "name": "stdout",
          "text": [
            "BB saya  40 kg.\n"
          ]
        }
      ]
    },
    {
      "cell_type": "markdown",
      "source": [
        "Escape Character"
      ],
      "metadata": {
        "id": "rIKHZwYEhbrY"
      }
    },
    {
      "cell_type": "code",
      "source": [
        "print(\"nama:nafisatul maulidya\\nkelas: x.8\\nNo. absen: 27\")"
      ],
      "metadata": {
        "colab": {
          "base_uri": "https://localhost:8080/"
        },
        "id": "Iyr5ZPg2hwXd",
        "outputId": "fda8e2a7-977c-4e8a-ebc2-5b76de73a09c"
      },
      "execution_count": null,
      "outputs": [
        {
          "output_type": "stream",
          "name": "stdout",
          "text": [
            "nama:nafisatul maulidya\n",
            "kelas: x.8\n",
            "No. absen: 27\n"
          ]
        }
      ]
    },
    {
      "cell_type": "code",
      "source": [
        "print(\"\"\"nama\\t\\t:nafisatul maulidya\n",
        "kelas\\t\\t: x.8\n",
        "No. absen\\t: 27\"\"\")"
      ],
      "metadata": {
        "colab": {
          "base_uri": "https://localhost:8080/"
        },
        "id": "V35J6u5YlV3b",
        "outputId": "f1dc2f78-fcd2-4162-c61f-04736e166e2b"
      },
      "execution_count": null,
      "outputs": [
        {
          "output_type": "stream",
          "name": "stdout",
          "text": [
            "nama\t\t:nafisatul maulidya\n",
            "kelas\t\t: x.8\n",
            "No. absen\t: 27\n"
          ]
        }
      ]
    },
    {
      "cell_type": "code",
      "source": [
        "print(\"nama:Ja'far shodiq\\nkelas: X.8\\nNo. absen:27\")"
      ],
      "metadata": {
        "colab": {
          "base_uri": "https://localhost:8080/"
        },
        "id": "MekNcibVl6PR",
        "outputId": "f509e49a-2f97-44e9-d1e6-d6d279d367cc"
      },
      "execution_count": null,
      "outputs": [
        {
          "output_type": "stream",
          "name": "stdout",
          "text": [
            "nama:Ja'far shodiq\n",
            "kelas: X.8\n",
            "No. absen:27\n"
          ]
        }
      ]
    },
    {
      "cell_type": "code",
      "source": [
        "print('nama:Ja\\'far shodiq\\nkelas: X.8\\nNo. absen:27')"
      ],
      "metadata": {
        "colab": {
          "base_uri": "https://localhost:8080/"
        },
        "id": "F3JHdJSmmojJ",
        "outputId": "cfacdcb3-163d-49ed-db74-5bb7e44d9b27"
      },
      "execution_count": null,
      "outputs": [
        {
          "output_type": "stream",
          "name": "stdout",
          "text": [
            "nama:Ja'far shodiq\n",
            "kelas: X.8\n",
            "No. absen:27\n"
          ]
        }
      ]
    },
    {
      "cell_type": "code",
      "source": [
        "print(\"Lokasi File tugas KKA: lokal disk c:\\\\KKA\\\\Tugas shinta\")"
      ],
      "metadata": {
        "colab": {
          "base_uri": "https://localhost:8080/"
        },
        "id": "1OBAIS08m0Hw",
        "outputId": "8039c7e0-1bfb-4984-ec86-75f0a51705f7"
      },
      "execution_count": null,
      "outputs": [
        {
          "output_type": "stream",
          "name": "stdout",
          "text": [
            "Lokasi File tugas KKA: lokal disk c:\\KKA\\Tugas shinta\n"
          ]
        }
      ]
    },
    {
      "cell_type": "markdown",
      "source": [
        "#Parameter Fungsi print"
      ],
      "metadata": {
        "id": "XbEe00HWq26v"
      }
    },
    {
      "cell_type": "code",
      "source": [
        "Tahun = 2025\n",
        "Bulan = \"agustus\"\n",
        "Tanggal = 23\n",
        "\n",
        "print(Tahun,Bulan,Tanggal,sep=\"-\")"
      ],
      "metadata": {
        "colab": {
          "base_uri": "https://localhost:8080/"
        },
        "id": "e7A0GAV-q-sn",
        "outputId": "5674563c-a564-4c79-fe52-3d2444f8ac5f"
      },
      "execution_count": null,
      "outputs": [
        {
          "output_type": "stream",
          "name": "stdout",
          "text": [
            "2025-agustus-23\n"
          ]
        }
      ]
    },
    {
      "cell_type": "code",
      "source": [
        "nama_depan = \"nafisatul\"\n",
        "nama_belakang = \"maulidya\"\n",
        "\n",
        "print(nama_depan, end=\" \")\n",
        "print (nama_belakang)"
      ],
      "metadata": {
        "colab": {
          "base_uri": "https://localhost:8080/"
        },
        "id": "NYqWs9KgrXjf",
        "outputId": "a41b8de5-cbdd-4770-9258-4ea8ffc9aacd"
      },
      "execution_count": null,
      "outputs": [
        {
          "output_type": "stream",
          "name": "stdout",
          "text": [
            "nafisatul maulidya\n"
          ]
        }
      ]
    },
    {
      "cell_type": "code",
      "source": [
        "nama_siswa_1 =\"Dinda\"\n",
        "nama_siswa_2 =\"Aurin\"\n",
        "nama_siswa_3 =\"Lisaan\"\n",
        "\n",
        "print (nama_siswa_3, nama_siswa_2, nama_siswa_3, nama_siswa_1, sep=\"/\")"
      ],
      "metadata": {
        "colab": {
          "base_uri": "https://localhost:8080/"
        },
        "id": "cSL8gE0yuI-Y",
        "outputId": "eb3bb1db-66df-492f-a664-b910293786cf"
      },
      "execution_count": null,
      "outputs": [
        {
          "output_type": "stream",
          "name": "stdout",
          "text": [
            "Lisaan/Aurin/Lisaan/Dinda\n"
          ]
        }
      ]
    },
    {
      "cell_type": "code",
      "source": [
        "nama_siswa_4 = \"Azkal\"\n",
        "nama_siswa_5 = \"Hasim\"\n",
        "nama_siswa_6 = \"Chilmi\"\n",
        "nama_siswa_7 = \"Nova\"\n",
        "\n",
        "print (nama_siswa_6, end =\"~\")\n",
        "print (nama_siswa_4)\n",
        "print (nama_siswa_5, end =\"-\")\n",
        "print (nama_siswa_7)\n",
        "print (nama_siswa_4, end =\"/\")\n",
        "print (nama_siswa_7, end =\"&\")\n",
        "print (nama_siswa_5)"
      ],
      "metadata": {
        "colab": {
          "base_uri": "https://localhost:8080/"
        },
        "id": "MHRqIIlIvjPZ",
        "outputId": "9011292d-5fea-43ee-b57d-82e77348492d"
      },
      "execution_count": null,
      "outputs": [
        {
          "output_type": "stream",
          "name": "stdout",
          "text": [
            "Chilmi~Azkal\n",
            "Hasim-Nova\n",
            "Azkal/Nova&Hasim\n"
          ]
        }
      ]
    }
  ]
}